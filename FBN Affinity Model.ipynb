{
 "metadata": {
  "name": "",
  "signature": "sha256:e5fa91b24a61a84fd5ee5a8d41b6170fe4eb07a8391a3975ff9ae9fca5906a47"
 },
 "nbformat": 3,
 "nbformat_minor": 0,
 "worksheets": [
  {
   "cells": [
    {
     "cell_type": "code",
     "collapsed": false,
     "input": [
      "import pandas as pd\n",
      "import numpy as np\n",
      "import matplotlib.pyplot as plt\n",
      "%matplotlib inline"
     ],
     "language": "python",
     "metadata": {},
     "outputs": [],
     "prompt_number": 103
    },
    {
     "cell_type": "code",
     "collapsed": false,
     "input": [
      "#Data Loading\n",
      "train_df_raw = pd.read_csv('/home/mex/DS/FBNData.csv',encoding = \"ISO-8859-1\",low_memory=False)"
     ],
     "language": "python",
     "metadata": {},
     "outputs": [],
     "prompt_number": 120
    },
    {
     "cell_type": "code",
     "collapsed": false,
     "input": [
      "train_df_raw.columns"
     ],
     "language": "python",
     "metadata": {},
     "outputs": [
      {
       "metadata": {},
       "output_type": "pyout",
       "prompt_number": 105,
       "text": [
        "Index(['CUST_ID', 'ADDR1', 'ADDR2', 'CITYCODE', 'STATECODE', 'COUNTRYCODE',\n",
        "       'SOL', 'PHONE1', 'PHONE2', 'EMAIL_ID1', 'EMAIL_ID2', 'CUST_SEX',\n",
        "       'CUST_OCCP_CODE', 'CUST_CONST', 'NUM_OF_ACCOUNTS', 'DATE_OF_BIRTH',\n",
        "       'PSPRT_NUM', 'NAT_ID_CARD_NUM', 'TIN', 'BVN_NO', 'CUST_FIRST_ACCT_DATE',\n",
        "       'END_DATE', 'LAST_CR_DATE', 'CURRENT_N', 'LOAN', 'SAVING', 'FIXED',\n",
        "       'CREDIT_CARDS', 'DEBIT_CARDS', 'LAST_ONLINE_LOGIN',\n",
        "       'LAST_MOBILE_BANKING_LOGIN', 'NO_OF_CR', 'NO_OF_DR', 'CREDIT_BAL',\n",
        "       'CREDIT_TRAN_DATE'],\n",
        "      dtype='object')"
       ]
      }
     ],
     "prompt_number": 105
    },
    {
     "cell_type": "heading",
     "level": 3,
     "metadata": {},
     "source": [
      "Handle Attributes"
     ]
    },
    {
     "cell_type": "code",
     "collapsed": false,
     "input": [
      "col_list= ['ADDR1','ADDR2','PHONE1','PHONE2','EMAIL_ID1','EMAIL_ID2','PSPRT_NUM', 'NAT_ID_CARD_NUM', 'TIN','BVN_NO','LAST_ONLINE_LOGIN','LAST_MOBILE_BANKING_LOGIN']\n",
      "for col in col_list:\n",
      "    train_df_raw['has_'+col]=train_df_raw[col].map(lambda x: 0 if pd.isnull(x) else 1 )\n",
      "    train_df_raw.drop([col],axis=1,inplace=True)"
     ],
     "language": "python",
     "metadata": {},
     "outputs": [],
     "prompt_number": 121
    },
    {
     "cell_type": "heading",
     "level": 3,
     "metadata": {},
     "source": [
      "One Hot Encoding"
     ]
    },
    {
     "cell_type": "code",
     "collapsed": false,
     "input": [
      "ohe_cols =['CITYCODE', 'STATECODE', 'COUNTRYCODE','CUST_OCCP_CODE', 'CUST_CONST','SOL','CUST_SEX']\n",
      "for v_col in ohe_cols:\n",
      "    tmp_df_oh=pd.get_dummies(train_df_raw[v_col],prefix=v_col)\n",
      "    train_df_raw = pd.concat((train_df_raw,tmp_df_oh),axis=1).drop([v_col],axis=1)"
     ],
     "language": "python",
     "metadata": {},
     "outputs": [],
     "prompt_number": 122
    },
    {
     "cell_type": "heading",
     "level": 3,
     "metadata": {},
     "source": [
      "Handle Dates"
     ]
    },
    {
     "cell_type": "code",
     "collapsed": false,
     "input": [
      "train_df_raw['CUST_FIRST_ACCT_DATE'].fillna('1/1/1894',inplace=True)\n",
      "train_df_raw['LAST_CR_DATE'].fillna('1/1/1894',inplace=True)"
     ],
     "language": "python",
     "metadata": {},
     "outputs": [],
     "prompt_number": 123
    },
    {
     "cell_type": "code",
     "collapsed": false,
     "input": [
      "date_cols=['DATE_OF_BIRTH', 'CUST_FIRST_ACCT_DATE','LAST_CR_DATE']\n",
      "for d_col in date_cols:\n",
      "    tfa_dt =train_df_raw[d_col].astype(str)\n",
      "    train_df_raw[d_col+'_year'] =tfa_dt.str.split('/').map(lambda x : x[2]).str.slice(0,4,1).astype(int)\n",
      "    train_df_raw[d_col+'_month']=tfa_dt.str.split('/').map(lambda x : x[0]).astype(int)\n",
      "    train_df_raw[d_col+'_day'] =tfa_dt.str.split('/').map(lambda x : x[1]).astype(int)\n",
      "    train_df_raw.drop([d_col],axis=1,inplace=True)"
     ],
     "language": "python",
     "metadata": {},
     "outputs": [],
     "prompt_number": 124
    },
    {
     "cell_type": "heading",
     "level": 3,
     "metadata": {},
     "source": [
      "Finalize Data Prep"
     ]
    },
    {
     "cell_type": "code",
     "collapsed": false,
     "input": [
      "mobile_labels = train_df_raw['has_LAST_MOBILE_BANKING_LOGIN']\n",
      "online_labels = train_df_raw['has_LAST_ONLINE_LOGIN']"
     ],
     "language": "python",
     "metadata": {},
     "outputs": [],
     "prompt_number": 126
    },
    {
     "cell_type": "code",
     "collapsed": false,
     "input": [
      "train_df_raw.drop(['CREDIT_TRAN_DATE','END_DATE','CUST_ID','has_LAST_MOBILE_BANKING_LOGIN','has_LAST_ONLINE_LOGIN'],axis=1,inplace=True)\n",
      "train_df_raw.fillna(0,inplace=True)"
     ],
     "language": "python",
     "metadata": {},
     "outputs": [],
     "prompt_number": 127
    },
    {
     "cell_type": "code",
     "collapsed": false,
     "input": [
      "train_df_raw.fillna(0,inplace=True)"
     ],
     "language": "python",
     "metadata": {},
     "outputs": [],
     "prompt_number": 130
    },
    {
     "cell_type": "heading",
     "level": 3,
     "metadata": {},
     "source": [
      "Train and Test Model"
     ]
    },
    {
     "cell_type": "code",
     "collapsed": false,
     "input": [
      "from sklearn.ensemble import RandomForestClassifier\n",
      "from sklearn.cross_validation import train_test_split\n",
      "from sklearn.preprocessing import StandardScaler\n",
      "from sklearn.preprocessing import MinMaxScaler\n",
      "from sklearn import metrics\n",
      "from sklearn import cross_validation"
     ],
     "language": "python",
     "metadata": {},
     "outputs": [],
     "prompt_number": 128
    },
    {
     "cell_type": "heading",
     "level": 3,
     "metadata": {},
     "source": [
      "Train Mobile"
     ]
    },
    {
     "cell_type": "code",
     "collapsed": false,
     "input": [
      "ftrain,ftest,ltrain,ltest=train_test_split(train_df_raw,mobile_labels,test_size=.20,random_state=16)\n",
      "scaler = StandardScaler()\n",
      "scaler.fit(ftrain)  \n",
      "ftrain = scaler.transform(ftrain)\n",
      "ftest = scaler.transform(ftest)"
     ],
     "language": "python",
     "metadata": {},
     "outputs": [],
     "prompt_number": 131
    },
    {
     "cell_type": "code",
     "collapsed": false,
     "input": [
      "clf = RandomForestClassifier(max_depth=13)\n",
      "clf.fit(ftrain,ltrain)"
     ],
     "language": "python",
     "metadata": {},
     "outputs": [
      {
       "metadata": {},
       "output_type": "pyout",
       "prompt_number": 136,
       "text": [
        "RandomForestClassifier(bootstrap=True, class_weight=None, criterion='gini',\n",
        "            max_depth=13, max_features='auto', max_leaf_nodes=None,\n",
        "            min_samples_leaf=1, min_samples_split=2,\n",
        "            min_weight_fraction_leaf=0.0, n_estimators=10, n_jobs=1,\n",
        "            oob_score=False, random_state=None, verbose=0,\n",
        "            warm_start=False)"
       ]
      }
     ],
     "prompt_number": 136
    },
    {
     "cell_type": "code",
     "collapsed": false,
     "input": [
      "print(clf.score(ftrain,ltrain),clf.score(ftest,ltest))"
     ],
     "language": "python",
     "metadata": {},
     "outputs": [
      {
       "output_type": "stream",
       "stream": "stdout",
       "text": [
        "0.87571750448 0.871737617915\n"
       ]
      }
     ],
     "prompt_number": 137
    },
    {
     "cell_type": "code",
     "collapsed": false,
     "input": [],
     "language": "python",
     "metadata": {},
     "outputs": []
    }
   ],
   "metadata": {}
  }
 ]
}