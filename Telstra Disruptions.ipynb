{
 "metadata": {
  "name": "",
  "signature": "sha256:d62c7c9a7b5a0112875aae2022e9547e5b8667449ee20d4027dee20e1f002bc3"
 },
 "nbformat": 3,
 "nbformat_minor": 0,
 "worksheets": [
  {
   "cells": [
    {
     "cell_type": "code",
     "collapsed": false,
     "input": [
      "import pandas as pd\n",
      "import numpy as np\n",
      "import matplotlib.pyplot as plt\n",
      "%matplotlib inline"
     ],
     "language": "python",
     "metadata": {},
     "outputs": [
      {
       "output_type": "stream",
       "stream": "stderr",
       "text": [
        "Vendor:  Continuum Analytics, Inc.\n",
        "Package: mkl\n",
        "Message: trial mode expires in 27 days\n"
       ]
      }
     ],
     "prompt_number": 2
    },
    {
     "cell_type": "heading",
     "level": 1,
     "metadata": {},
     "source": [
      "Load Data"
     ]
    },
    {
     "cell_type": "code",
     "collapsed": false,
     "input": [
      "#Data Loading\n",
      "resrc_typ_df = pd.read_csv('/home/mex/DS/Kaggle/Telstra/resource_type.csv')\n",
      "evt_typ_df=pd.read_csv('/home/mex/DS/Kaggle/Telstra/event_type.csv')\n",
      "log_feat_df = pd.read_csv('/home/mex/DS/Kaggle/Telstra/log_feature.csv')\n",
      "serv_typ_df = pd.read_csv('/home/mex/DS/Kaggle/Telstra/severity_type.csv')\n",
      "train_df = pd.read_csv('/home/mex/DS/Kaggle/Telstra/train.csv')\n",
      "test_df = pd.read_csv('/home/mex/DS/Kaggle/Telstra/test.csv')"
     ],
     "language": "python",
     "metadata": {},
     "outputs": [],
     "prompt_number": 3
    },
    {
     "cell_type": "heading",
     "level": 1,
     "metadata": {},
     "source": [
      "Basic Sense of Data"
     ]
    },
    {
     "cell_type": "code",
     "collapsed": false,
     "input": [
      "log_feat_df.head()\n",
      "log_feat_df.shape"
     ],
     "language": "python",
     "metadata": {},
     "outputs": [
      {
       "metadata": {},
       "output_type": "pyout",
       "prompt_number": 4,
       "text": [
        "(58671, 3)"
       ]
      }
     ],
     "prompt_number": 4
    },
    {
     "cell_type": "code",
     "collapsed": false,
     "input": [
      "serv_typ_df.head()\n",
      "serv_typ_df.shape"
     ],
     "language": "python",
     "metadata": {},
     "outputs": [
      {
       "metadata": {},
       "output_type": "pyout",
       "prompt_number": 29,
       "text": [
        "(18552, 2)"
       ]
      }
     ],
     "prompt_number": 29
    },
    {
     "cell_type": "code",
     "collapsed": false,
     "input": [
      "train_df.head()\n",
      "train_df.shape"
     ],
     "language": "python",
     "metadata": {},
     "outputs": [
      {
       "metadata": {},
       "output_type": "pyout",
       "prompt_number": 21,
       "text": [
        "(7381, 3)"
       ]
      }
     ],
     "prompt_number": 21
    },
    {
     "cell_type": "code",
     "collapsed": false,
     "input": [
      "test_df.head()\n",
      "test_df.shape"
     ],
     "language": "python",
     "metadata": {},
     "outputs": [
      {
       "metadata": {},
       "output_type": "pyout",
       "prompt_number": 22,
       "text": [
        "(11171, 2)"
       ]
      }
     ],
     "prompt_number": 22
    },
    {
     "cell_type": "code",
     "collapsed": false,
     "input": [
      "train_df.shape[0]+test_df.shape[0]"
     ],
     "language": "python",
     "metadata": {},
     "outputs": [
      {
       "metadata": {},
       "output_type": "pyout",
       "prompt_number": 23,
       "text": [
        "18552"
       ]
      }
     ],
     "prompt_number": 23
    },
    {
     "cell_type": "heading",
     "level": 1,
     "metadata": {},
     "source": [
      "Resource Types"
     ]
    },
    {
     "cell_type": "code",
     "collapsed": false,
     "input": [
      "ohe_rsc_typ1=pd.get_dummies(resrc_typ_df['resource_type'],prefix='rsc_typ')\n",
      "ohe_rsc_typ = pd.concat((resrc_typ_df,ohe_rsc_typ1),axis=1).drop(['resource_type'],axis=1)\n",
      "ohe_rsc_typ_l1 = ohe_rsc_typ.groupby('id').sum()\n",
      "ohe_rsc_typ_l1=ohe_rsc_typ_l1.reset_index()\n",
      "#ohe_rsc_typ_l1.head()"
     ],
     "language": "python",
     "metadata": {},
     "outputs": [],
     "prompt_number": 5
    },
    {
     "cell_type": "heading",
     "level": 1,
     "metadata": {},
     "source": [
      "Event Types"
     ]
    },
    {
     "cell_type": "code",
     "collapsed": false,
     "input": [
      "ohe_evt_typ_df1=pd.get_dummies(evt_typ_df['event_type'],prefix='evt_typ')\n",
      "ohe_evt_typ_df = pd.concat((evt_typ_df,ohe_evt_typ_df1),axis=1).drop(['event_type'],axis=1)\n",
      "ohe_evt_typ_l1 = ohe_evt_typ_df.groupby('id').sum()\n",
      "ohe_evt_typ_l1=ohe_evt_typ_l1.reset_index()\n",
      "#ohe_evt_typ_l1.head()"
     ],
     "language": "python",
     "metadata": {},
     "outputs": [],
     "prompt_number": 6
    },
    {
     "cell_type": "heading",
     "level": 1,
     "metadata": {},
     "source": [
      "Log Features"
     ]
    },
    {
     "cell_type": "code",
     "collapsed": false,
     "input": [
      "ohe_log_feat_df1=pd.get_dummies(log_feat_df['log_feature'],prefix='log_feat')\n",
      "ohe_log_feat_df = pd.concat((log_feat_df,ohe_log_feat_df1),axis=1).drop(['log_feature'],axis=1)\n",
      "log_feat_id = ohe_log_feat_df.id"
     ],
     "language": "python",
     "metadata": {},
     "outputs": [],
     "prompt_number": 136
    },
    {
     "cell_type": "code",
     "collapsed": false,
     "input": [
      "log_feat_mul = ohe_log_feat_df.mul(ohe_log_feat_df['volume'],axis=0)\n",
      "log_feat_mul.rename(columns={'id': 'fake_id'}, inplace=True)\n",
      "ohe_log_feat_df2 = pd.concat((log_feat_id,log_feat_mul),axis=1).drop(['fake_id','volume'],axis=1)\n",
      "ohe_log_feat_l1 = ohe_log_feat_df2.groupby('id').sum()\n",
      "ohe_log_feat_l1=ohe_log_feat_l1.reset_index()\n",
      "#ohe_log_feat_l1.head()"
     ],
     "language": "python",
     "metadata": {},
     "outputs": [],
     "prompt_number": 137
    },
    {
     "cell_type": "code",
     "collapsed": false,
     "input": [
      "logcols = ohe_log_feat_l1.columns\n",
      "for i in range(1,logcols.size-1):\n",
      "    for ii in range(i+1,logcols.size):\n",
      "        ohe_log_feat_l1[logcols[i]+'_'+logcols[ii]] = ohe_log_feat_l1[logcols[i]]/ohe_log_feat_l1[logcols[ii]]"
     ],
     "language": "python",
     "metadata": {},
     "outputs": [],
     "prompt_number": 13
    },
    {
     "cell_type": "code",
     "collapsed": false,
     "input": [
      "logcols = ohe_log_feat_l1.columns\n",
      "for i in range(300,387):\n",
      "    for ii in range(i,logcols.size):\n",
      "        ohe_log_feat_l1[logcols[i]+'_'+logcols[ii]] = ohe_log_feat_l1[logcols[i]]/ohe_log_feat_l1[logcols[ii]].replace(0,1)\n",
      "        ohe_log_feat_l1[logcols[i]+'_'+logcols[ii]].fillna(0,inplace=True)"
     ],
     "language": "python",
     "metadata": {},
     "outputs": [],
     "prompt_number": 139
    },
    {
     "cell_type": "code",
     "collapsed": false,
     "input": [
      "ohe_log_feat_l1.shape"
     ],
     "language": "python",
     "metadata": {},
     "outputs": [
      {
       "metadata": {},
       "output_type": "pyout",
       "prompt_number": 140,
       "text": [
        "(18552, 4215)"
       ]
      }
     ],
     "prompt_number": 140
    },
    {
     "cell_type": "heading",
     "level": 1,
     "metadata": {},
     "source": [
      "Severity Type"
     ]
    },
    {
     "cell_type": "code",
     "collapsed": false,
     "input": [
      "ohe_serv_typ_df1=pd.get_dummies(serv_typ_df['severity_type'],prefix='sev_typ')\n",
      "ohe_serv_typ_df = pd.concat((serv_typ_df,ohe_serv_typ_df1),axis=1).drop(['severity_type'],axis=1)\n",
      "ohe_serv_typ_l1 = ohe_serv_typ_df.groupby('id').sum()\n",
      "ohe_serv_typ_l1=ohe_serv_typ_l1.reset_index()\n",
      "#ohe_serv_typ_l1.head()"
     ],
     "language": "python",
     "metadata": {},
     "outputs": [],
     "prompt_number": 141
    },
    {
     "cell_type": "heading",
     "level": 1,
     "metadata": {},
     "source": [
      "Merge Data"
     ]
    },
    {
     "cell_type": "code",
     "collapsed": false,
     "input": [
      "ohe_rsc_typ_l1\n",
      "ohe_evt_typ_l1\n",
      "ohe_log_feat_l1\n",
      "ohe_serv_typ_l1"
     ],
     "language": "python",
     "metadata": {},
     "outputs": []
    },
    {
     "cell_type": "code",
     "collapsed": false,
     "input": [
      "feature_space=pd.merge(pd.merge(pd.merge(ohe_rsc_typ_l1,ohe_evt_typ_l1,on='id'),ohe_log_feat_l1,on='id'),ohe_serv_typ_l1,on='id')\n",
      "#feature_space.fillna(0.0,inplace=True)"
     ],
     "language": "python",
     "metadata": {},
     "outputs": [],
     "prompt_number": 142
    },
    {
     "cell_type": "heading",
     "level": 1,
     "metadata": {},
     "source": [
      "Model Training"
     ]
    },
    {
     "cell_type": "code",
     "collapsed": false,
     "input": [
      "full_df=pd.concat((train_df, test_df), axis=0, ignore_index=True)\n",
      "ohe_full_df1=pd.get_dummies(full_df['location'],prefix='loc')\n",
      "ohe_full_df = pd.concat((full_df,ohe_full_df1),axis=1).drop(['location'],axis=1)\n",
      "#ohe_full_df.head()"
     ],
     "language": "python",
     "metadata": {},
     "outputs": [],
     "prompt_number": 143
    },
    {
     "cell_type": "code",
     "collapsed": false,
     "input": [
      "ohe_full_data = pd.merge(ohe_full_df,feature_space,on='id')\n",
      "train_data = ohe_full_data[ohe_full_data['fault_severity'].notnull()]\n",
      "test_data = ohe_full_data[ohe_full_data['fault_severity'].isnull()]\n",
      "train_labels = train_data['fault_severity']\n",
      "train_data = train_data.drop(['fault_severity'],axis=1)\n",
      "test_data = test_data.drop(['fault_severity'],axis=1)\n",
      "train_data = train_data.drop(['id'],axis=1)"
     ],
     "language": "python",
     "metadata": {},
     "outputs": [],
     "prompt_number": 144
    },
    {
     "cell_type": "code",
     "collapsed": false,
     "input": [
      "from sklearn.ensemble import AdaBoostClassifier\n",
      "from sklearn.ensemble import GradientBoostingClassifier\n",
      "from sklearn.ensemble import RandomForestClassifier\n",
      "from sklearn.cross_validation import train_test_split\n",
      "from sklearn.preprocessing import StandardScaler\n",
      "from sklearn.preprocessing import MinMaxScaler\n",
      "from sklearn import svm,grid_search\n",
      "from sklearn.decomposition import PCA\n",
      "from sklearn.ensemble import BaggingClassifier\n",
      "from sklearn.linear_model import SGDClassifier\n",
      "from sklearn.ensemble import ExtraTreesClassifier\n",
      "from sklearn.linear_model import LogisticRegressionCV\n",
      "from sklearn.linear_model import SGDClassifier\n",
      "from sklearn.naive_bayes import MultinomialNB\n",
      "from sklearn import metrics\n",
      "from sklearn import cross_validation"
     ],
     "language": "python",
     "metadata": {},
     "outputs": [],
     "prompt_number": 145
    },
    {
     "cell_type": "code",
     "collapsed": false,
     "input": [
      "#Sample Train\n",
      "ftrain,ftest,ltrain,ltest=train_test_split(train_data,train_labels,test_size=.20,random_state=88)\n",
      "scaler = MinMaxScaler()\n",
      "scaler.fit(ftrain)  \n",
      "ftrain = scaler.transform(ftrain)\n",
      "ftest = scaler.transform(ftest)"
     ],
     "language": "python",
     "metadata": {},
     "outputs": [],
     "prompt_number": 147
    },
    {
     "cell_type": "code",
     "collapsed": false,
     "input": [
      "#Full Train\n",
      "scaler = StandardScaler()\n",
      "scaler.fit(train_data)  \n",
      "ftrain = scaler.transform(train_data)\n",
      "ltrain = train_labels"
     ],
     "language": "python",
     "metadata": {},
     "outputs": [],
     "prompt_number": 39
    },
    {
     "cell_type": "code",
     "collapsed": false,
     "input": [
      "clf = GradientBoostingClassifier(max_depth=5) #.7542 n_estimators=200\n",
      "#clf = AdaBoostClassifier()\n",
      "clf.fit(ftrain,ltrain)"
     ],
     "language": "python",
     "metadata": {},
     "outputs": [
      {
       "metadata": {},
       "output_type": "pyout",
       "prompt_number": 159,
       "text": [
        "GradientBoostingClassifier(init=None, learning_rate=0.1, loss='deviance',\n",
        "              max_depth=5, max_features=None, max_leaf_nodes=None,\n",
        "              min_samples_leaf=1, min_samples_split=2,\n",
        "              min_weight_fraction_leaf=0.0, n_estimators=100,\n",
        "              random_state=None, subsample=1.0, verbose=0,\n",
        "              warm_start=False)"
       ]
      }
     ],
     "prompt_number": 159
    },
    {
     "cell_type": "code",
     "collapsed": false,
     "input": [
      "clf.score(ftrain,ltrain)"
     ],
     "language": "python",
     "metadata": {},
     "outputs": [
      {
       "metadata": {},
       "output_type": "pyout",
       "prompt_number": 155,
       "text": [
        "0.72815040650406504"
       ]
      }
     ],
     "prompt_number": 155
    },
    {
     "cell_type": "code",
     "collapsed": false,
     "input": [
      "clf.score(ftest,ltest)"
     ],
     "language": "python",
     "metadata": {},
     "outputs": [
      {
       "metadata": {},
       "output_type": "pyout",
       "prompt_number": 156,
       "text": [
        "0.71631685849695326"
       ]
      }
     ],
     "prompt_number": 156
    },
    {
     "cell_type": "code",
     "collapsed": false,
     "input": [
      "scorer = metrics.make_scorer(metrics.log_loss, greater_is_better=True, needs_proba=True)\n",
      "cross_validation.cross_val_score(clf, ftest, ltest, scoring=scorer,cv=3)"
     ],
     "language": "python",
     "metadata": {},
     "outputs": [],
     "prompt_number": 166
    },
    {
     "cell_type": "code",
     "collapsed": false,
     "input": [
      "metrics.log_loss(ltest,clf.predict_proba(ftest),normalize=True)"
     ],
     "language": "python",
     "metadata": {},
     "outputs": [
      {
       "metadata": {},
       "output_type": "pyout",
       "prompt_number": 163,
       "text": [
        "0.54267444058461589"
       ]
      }
     ],
     "prompt_number": 163
    },
    {
     "cell_type": "heading",
     "level": 1,
     "metadata": {},
     "source": [
      "Generate Test Results"
     ]
    },
    {
     "cell_type": "code",
     "collapsed": false,
     "input": [
      "test_id = test_data['id']\n",
      "t_final = scaler.transform(test_data.drop(['id'],axis=1))\n",
      "results_test =pd.DataFrame(clf.predict_proba(t_final),columns=clf.classes_)\n",
      "results_final=pd.merge(pd.DataFrame(test_id).reset_index().drop(['index'],axis=1), results_test, left_index=True,right_index=True)\n",
      "results_final.columns = ['id','predict_0','predict_1','predict_2']\n",
      "results_final.to_csv('/home/mex/DS/Kaggle/Telstra/submission16.csv',index=False)"
     ],
     "language": "python",
     "metadata": {},
     "outputs": [],
     "prompt_number": 164
    },
    {
     "cell_type": "code",
     "collapsed": false,
     "input": [],
     "language": "python",
     "metadata": {},
     "outputs": []
    },
    {
     "cell_type": "code",
     "collapsed": false,
     "input": [],
     "language": "python",
     "metadata": {},
     "outputs": []
    },
    {
     "cell_type": "code",
     "collapsed": false,
     "input": [],
     "language": "python",
     "metadata": {},
     "outputs": []
    },
    {
     "cell_type": "code",
     "collapsed": false,
     "input": [],
     "language": "python",
     "metadata": {},
     "outputs": []
    }
   ],
   "metadata": {}
  }
 ]
}