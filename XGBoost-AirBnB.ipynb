{
 "metadata": {
  "name": "",
  "signature": "sha256:8ccfafb50492528a0b3e3dcefea3bd9d34034212789a00d450d9e2bd48806fef"
 },
 "nbformat": 3,
 "nbformat_minor": 0,
 "worksheets": [
  {
   "cells": [
    {
     "cell_type": "code",
     "collapsed": false,
     "input": [
      "import numpy as np\n",
      "import pandas as pd\n",
      "from sklearn.preprocessing import LabelEncoder\n",
      "from xgboost.sklearn import XGBClassifier"
     ],
     "language": "python",
     "metadata": {},
     "outputs": [
      {
       "output_type": "stream",
       "stream": "stderr",
       "text": [
        "Vendor:  Continuum Analytics, Inc.\n",
        "Package: mkl\n",
        "Message: trial mode expires in 28 days\n"
       ]
      }
     ],
     "prompt_number": 2
    },
    {
     "cell_type": "code",
     "collapsed": false,
     "input": [
      "np.random.seed(0)\n",
      "\n",
      "#Loading data\n",
      "df_train = pd.read_csv('/home/mex/DS/Kaggle/AirBnB/train_users_2.csv')\n",
      "df_test = pd.read_csv('/home/mex/DS/Kaggle/AirBnB/test_users.csv')\n",
      "labels = df_train['country_destination'].values\n",
      "df_train = df_train.drop(['country_destination'], axis=1)\n",
      "id_test = df_test['id']\n",
      "piv_train = df_train.shape[0]\n",
      "\n",
      "#Creating a DataFrame with train+test data\n",
      "df_all = pd.concat((df_train, df_test), axis=0, ignore_index=True)\n",
      "#Removing id and date_first_booking\n",
      "df_all = df_all.drop(['id', 'date_first_booking'], axis=1)\n",
      "#Filling nan\n",
      "df_all = df_all.fillna(-1)\n",
      "\n",
      "#####Feature engineering#######\n",
      "#date_account_created\n",
      "dac = np.vstack(df_all.date_account_created.astype(str).apply(lambda x: list(map(int, x.split('-')))).values)\n",
      "df_all['dac_year'] = dac[:,0]\n",
      "df_all['dac_month'] = dac[:,1]\n",
      "df_all['dac_day'] = dac[:,2]\n",
      "df_all = df_all.drop(['date_account_created'], axis=1)\n",
      "\n",
      "#timestamp_first_active\n",
      "tfa = np.vstack(df_all.timestamp_first_active.astype(str).apply(lambda x: list(map(int, [x[:4],x[4:6],x[6:8],x[8:10],x[10:12],x[12:14]]))).values)\n",
      "df_all['tfa_year'] = tfa[:,0]\n",
      "df_all['tfa_month'] = tfa[:,1]\n",
      "df_all['tfa_day'] = tfa[:,2]\n",
      "df_all = df_all.drop(['timestamp_first_active'], axis=1)\n",
      "\n",
      "#Age\n",
      "av = df_all.age.values\n",
      "df_all['age'] = np.where(np.logical_or(av<14, av>100), -1, av)\n",
      "\n",
      "#One-hot-encoding features\n",
      "ohe_feats = ['gender', 'signup_method', 'signup_flow', 'language', 'affiliate_channel', 'affiliate_provider', 'first_affiliate_tracked', 'signup_app', 'first_device_type', 'first_browser']\n",
      "for f in ohe_feats:\n",
      "    df_all_dummy = pd.get_dummies(df_all[f], prefix=f)\n",
      "    df_all = df_all.drop([f], axis=1)\n",
      "    df_all = pd.concat((df_all, df_all_dummy), axis=1)\n",
      "\n",
      "#Splitting train and test\n",
      "vals = df_all.values\n",
      "X = vals[:piv_train]\n",
      "le = LabelEncoder()\n",
      "y = le.fit_transform(labels)   \n",
      "X_test = vals[piv_train:]"
     ],
     "language": "python",
     "metadata": {},
     "outputs": [],
     "prompt_number": 3
    },
    {
     "cell_type": "code",
     "collapsed": false,
     "input": [
      "#Classifier\n",
      "xgb = XGBClassifier(max_depth=6, learning_rate=0.3, n_estimators=25,\n",
      "                    objective='multi:softprob', subsample=0.5, colsample_bytree=0.5, seed=0)\n",
      "xgb.fit(X, y)"
     ],
     "language": "python",
     "metadata": {},
     "outputs": [
      {
       "metadata": {},
       "output_type": "pyout",
       "prompt_number": 4,
       "text": [
        "XGBClassifier(base_score=0.5, colsample_bylevel=1, colsample_bytree=0.5,\n",
        "       gamma=0, learning_rate=0.3, max_delta_step=0, max_depth=6,\n",
        "       min_child_weight=1, missing=None, n_estimators=25, nthread=-1,\n",
        "       objective='multi:softprob', reg_alpha=0, reg_lambda=1,\n",
        "       scale_pos_weight=1, seed=0, silent=True, subsample=0.5)"
       ]
      }
     ],
     "prompt_number": 4
    },
    {
     "cell_type": "code",
     "collapsed": false,
     "input": [
      "#xgb.score(X, y)"
     ],
     "language": "python",
     "metadata": {},
     "outputs": [
      {
       "metadata": {},
       "output_type": "pyout",
       "prompt_number": 37,
       "text": [
        "0.63857747211303761"
       ]
      }
     ],
     "prompt_number": 37
    },
    {
     "cell_type": "code",
     "collapsed": false,
     "input": [
      "#xgb.score(X_test, y)"
     ],
     "language": "python",
     "metadata": {},
     "outputs": [],
     "prompt_number": 1
    },
    {
     "cell_type": "code",
     "collapsed": false,
     "input": [
      "y_pred = xgb.predict_proba(X_test)  \n",
      "\n",
      "#Taking the 5 classes with highest probabilities\n",
      "ids = []  #list of ids\n",
      "cts = []  #list of countries\n",
      "for i in range(len(id_test)):\n",
      "    idx = id_test[i]\n",
      "    ids += [idx] * 5\n",
      "    cts += le.inverse_transform(np.argsort(y_pred[i])[::-1])[:5].tolist()\n",
      "\n",
      "#Generate submission\n",
      "sub = pd.DataFrame(np.column_stack((ids, cts)), columns=['id', 'country'])\n",
      "sub.to_csv('sub.csv',index=False)"
     ],
     "language": "python",
     "metadata": {},
     "outputs": [],
     "prompt_number": 5
    },
    {
     "cell_type": "code",
     "collapsed": false,
     "input": [],
     "language": "python",
     "metadata": {},
     "outputs": []
    }
   ],
   "metadata": {}
  }
 ]
}