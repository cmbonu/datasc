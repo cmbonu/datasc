{
 "metadata": {
  "name": "",
  "signature": "sha256:16ad393f55b7621778d75e79a95ef2f2e2fd15dcb8ff4110ceb728530ba02e32"
 },
 "nbformat": 3,
 "nbformat_minor": 0,
 "worksheets": [
  {
   "cells": [
    {
     "cell_type": "code",
     "collapsed": false,
     "input": [
      "import pandas as pd\n",
      "import numpy as np\n",
      "import matplotlib.pyplot as plt\n",
      "%matplotlib inline"
     ],
     "language": "python",
     "metadata": {},
     "outputs": [],
     "prompt_number": 4
    },
    {
     "cell_type": "code",
     "collapsed": false,
     "input": [
      "#Data Loading\n",
      "train_df_raw = pd.read_csv('/home/mex/DS/Kaggle/BNPClaims/train.csv')\n",
      "test_df_raw = pd.read_csv('/home/mex/DS/Kaggle/BNPClaims/test.csv')\n",
      "\n",
      "train_df_target = train_df_raw['target']\n",
      "train_df_raw.drop(['target'],axis=1,inplace=True)\n",
      "train_df_raw['target']=train_df_target\n",
      "full_df_raw = pd.concat((train_df_raw, test_df_raw), axis=0, ignore_index=True)\n",
      "train_df_oh = full_df_raw.copy()"
     ],
     "language": "python",
     "metadata": {},
     "outputs": [],
     "prompt_number": 5
    },
    {
     "cell_type": "code",
     "collapsed": false,
     "input": [
      "train_df_oh.shape"
     ],
     "language": "python",
     "metadata": {},
     "outputs": [
      {
       "metadata": {},
       "output_type": "pyout",
       "prompt_number": 3,
       "text": [
        "(228714, 133)"
       ]
      }
     ],
     "prompt_number": 3
    },
    {
     "cell_type": "heading",
     "level": 1,
     "metadata": {},
     "source": [
      "Eye ball Categorical Columns"
     ]
    },
    {
     "cell_type": "code",
     "collapsed": false,
     "input": [
      "col_types=train_df_oh.dtypes"
     ],
     "language": "python",
     "metadata": {},
     "outputs": [],
     "prompt_number": 4
    },
    {
     "cell_type": "code",
     "collapsed": false,
     "input": [
      "train_df_oh.v22.unique().shape #Column v22 has very high cardinality"
     ],
     "language": "python",
     "metadata": {},
     "outputs": [
      {
       "metadata": {},
       "output_type": "pyout",
       "prompt_number": 5,
       "text": [
        "(23420,)"
       ]
      }
     ],
     "prompt_number": 5
    },
    {
     "cell_type": "heading",
     "level": 2,
     "metadata": {},
     "source": [
      "One hot encode non numeric categorical features"
     ]
    },
    {
     "cell_type": "code",
     "collapsed": false,
     "input": [
      "col_types=train_df_oh.dtypes\n",
      "for v_col in col_types[(col_types != 'float64') & (col_types != 'int64')].index:\n",
      "    if v_col=='v22':\n",
      "        continue\n",
      "    tmp_df_oh=pd.get_dummies(train_df_oh[v_col],prefix=v_col)\n",
      "    train_df_oh = pd.concat((train_df_oh,tmp_df_oh),axis=1).drop([v_col],axis=1)"
     ],
     "language": "python",
     "metadata": {},
     "outputs": [],
     "prompt_number": 6
    },
    {
     "cell_type": "code",
     "collapsed": false,
     "input": [
      "train_data = train_df_oh[train_df_oh['target'].notnull()].drop(['target'],axis=1)\n",
      "test_data = train_df_oh[train_df_oh['target'].isnull()].drop(['target'],axis=1)"
     ],
     "language": "python",
     "metadata": {},
     "outputs": [],
     "prompt_number": 7
    },
    {
     "cell_type": "code",
     "collapsed": false,
     "input": [
      "train_data.fillna(-9999,inplace=True)\n",
      "test_data.fillna(-9999,inplace=True)\n",
      "train_data.drop(['ID'],axis=1,inplace=True)\n",
      "train_data.drop(['v22'],axis=1,inplace=True)\n",
      "test_data.drop(['v22'],axis=1,inplace=True)"
     ],
     "language": "python",
     "metadata": {},
     "outputs": [],
     "prompt_number": 8
    },
    {
     "cell_type": "code",
     "collapsed": false,
     "input": [
      "test_IDs = test_data['ID']\n",
      "test_data.drop(['ID'],axis=1,inplace=True)"
     ],
     "language": "python",
     "metadata": {},
     "outputs": [],
     "prompt_number": 9
    },
    {
     "cell_type": "code",
     "collapsed": false,
     "input": [
      "from sklearn.cross_validation import train_test_split\n",
      "from sklearn.preprocessing import StandardScaler\n",
      "from sklearn.preprocessing import MinMaxScaler\n",
      "from sklearn import svm,grid_search\n",
      "from sklearn import metrics\n",
      "from sklearn import cross_validation\n",
      "from xgboost.sklearn import XGBClassifier\n",
      "import xgboost as xgb"
     ],
     "language": "python",
     "metadata": {},
     "outputs": [],
     "prompt_number": 10
    },
    {
     "cell_type": "code",
     "collapsed": false,
     "input": [
      "#Sample Train\n",
      "ftrain,ftest,ltrain,ltest=train_test_split(train_data,train_df_target,test_size=.20,random_state=88)\n",
      "#scaler = StandardScaler()\n",
      "#scaler.fit(ftrain)  \n",
      "#ftrain = scaler.transform(ftrain)\n",
      "#ftest = scaler.transform(ftest)"
     ],
     "language": "python",
     "metadata": {},
     "outputs": [],
     "prompt_number": 11
    },
    {
     "cell_type": "code",
     "collapsed": false,
     "input": [
      "#clf = RandomForestClassifier(max_depth=13)\n",
      "clf = XGBClassifier(max_depth=12, learning_rate=0.1, n_estimators=500,colsample_bytree=.0.9,\n",
      "                    seed=51,objective='binary:logistic',silent=False,subsample=0.9)\n",
      "#clf=ExtraTreesClassifier(n_estimators=700,max_features= 50,criterion= 'entropy',\n",
      "#                         min_samples_split= 5,max_depth= 50, min_samples_leaf= 5) \n",
      "#clf.fit(train_data,train_df_target)\n",
      "clf.fit(ftrain,ltrain)"
     ],
     "language": "python",
     "metadata": {},
     "outputs": [
      {
       "metadata": {},
       "output_type": "pyout",
       "prompt_number": 82,
       "text": [
        "XGBClassifier(base_score=0.5, colsample_bylevel=1, colsample_bytree=1,\n",
        "       gamma=0, learning_rate=0.1, max_delta_step=0, max_depth=12,\n",
        "       min_child_weight=1, missing=None, n_estimators=500, nthread=-1,\n",
        "       objective='binary:logistic', reg_alpha=0, reg_lambda=1,\n",
        "       scale_pos_weight=1, seed=51, silent=False, subsample=1)"
       ]
      }
     ],
     "prompt_number": 82
    },
    {
     "cell_type": "code",
     "collapsed": false,
     "input": [
      "num_rounds = 100\n",
      "params = {}\n",
      "params[\"objective\"] = \"reg:logistic\"\n",
      "params[\"eta\"] = 0.01\n",
      "params[\"min_child_weight\"] = 4\n",
      "params[\"subsample\"] = 0.8\n",
      "params[\"colsample_bytree\"] = 0.7\n",
      "params[\"silent\"] = 1\n",
      "params[\"max_depth\"] = 15\n",
      "params[\"eval_metric\"] = \"logloss\"\n",
      "\n",
      "dvisibletrain = xgb.DMatrix((ftrain.values),ltrain.values,silent=True)\n",
      "dblindtrain = xgb.DMatrix((ftrain.values),ltrain.values,silent=True)\n",
      "dblindtest = xgb.DMatrix((ftest.values),silent=True)\n",
      "\n",
      "#watchlist = [(dblindtrain, 'eval'), (dvisibletrain, 'train')]\n",
      "gbm = xgb.train(params, dvisibletrain, num_rounds,verbose_eval=True)"
     ],
     "language": "python",
     "metadata": {},
     "outputs": [],
     "prompt_number": 13
    },
    {
     "cell_type": "code",
     "collapsed": false,
     "input": [
      "metrics.log_loss(ltest.values,gbm.predict(dblindtest),normalize=True)"
     ],
     "language": "python",
     "metadata": {},
     "outputs": [
      {
       "metadata": {},
       "output_type": "pyout",
       "prompt_number": 14,
       "text": [
        "0.51707069753831514"
       ]
      }
     ],
     "prompt_number": 14
    },
    {
     "cell_type": "code",
     "collapsed": false,
     "input": [
      "dtesttest = xgb.DMatrix((test_data.values),silent=True)\n",
      "pscr = gbm.predict(dtesttest)"
     ],
     "language": "python",
     "metadata": {},
     "outputs": [],
     "prompt_number": 15
    },
    {
     "cell_type": "code",
     "collapsed": false,
     "input": [
      "pscr.size"
     ],
     "language": "python",
     "metadata": {},
     "outputs": [
      {
       "metadata": {},
       "output_type": "pyout",
       "prompt_number": 31,
       "text": [
        "114393"
       ]
      }
     ],
     "prompt_number": 31
    },
    {
     "cell_type": "code",
     "collapsed": false,
     "input": [
      "test_IDs.shape"
     ],
     "language": "python",
     "metadata": {},
     "outputs": [
      {
       "metadata": {},
       "output_type": "pyout",
       "prompt_number": 32,
       "text": [
        "(114393,)"
       ]
      }
     ],
     "prompt_number": 32
    },
    {
     "cell_type": "code",
     "collapsed": false,
     "input": [
      "\n",
      "pd.DataFrame({\"ID\": test_IDs, \"PredictedProb\": pscr}).to_csv('/home/mex/DS/Kaggle/BNPClaims/sub7.csv',index=False)"
     ],
     "language": "python",
     "metadata": {},
     "outputs": [],
     "prompt_number": 34
    },
    {
     "cell_type": "code",
     "collapsed": false,
     "input": [
      "print(clf.score(ftrain,ltrain),clf.score(ftest,ltest))"
     ],
     "language": "python",
     "metadata": {},
     "outputs": [
      {
       "output_type": "stream",
       "stream": "stdout",
       "text": [
        "0.886174772568 0.77765143232\n"
       ]
      }
     ],
     "prompt_number": 63
    },
    {
     "cell_type": "code",
     "collapsed": false,
     "input": [
      "metrics.log_loss(ltrain,clf.predict_proba(ftrain),normalize=True)"
     ],
     "language": "python",
     "metadata": {},
     "outputs": [
      {
       "metadata": {},
       "output_type": "pyout",
       "prompt_number": 80,
       "text": [
        "0.19629191093256154"
       ]
      }
     ],
     "prompt_number": 80
    },
    {
     "cell_type": "code",
     "collapsed": false,
     "input": [
      "metrics.log_loss(ltest,clf.predict_proba(ftest),normalize=True)"
     ],
     "language": "python",
     "metadata": {},
     "outputs": [
      {
       "metadata": {},
       "output_type": "pyout",
       "prompt_number": 81,
       "text": [
        "0.48428337117659737"
       ]
      }
     ],
     "prompt_number": 81
    },
    {
     "cell_type": "code",
     "collapsed": false,
     "input": [
      "scorer = metrics.make_scorer(metrics.log_loss, greater_is_better=True, needs_proba=True)\n",
      "cross_validation.cross_val_score(clf, ftest, ltest, scoring=scorer,cv=5)"
     ],
     "language": "python",
     "metadata": {},
     "outputs": [
      {
       "metadata": {},
       "output_type": "pyout",
       "prompt_number": 14,
       "text": [
        "array([ 0.54118676,  0.52637468,  0.53119652,  0.53429741,  0.51884681])"
       ]
      }
     ],
     "prompt_number": 14
    },
    {
     "cell_type": "code",
     "collapsed": false,
     "input": [
      "#test_data_sc = scaler.transform(test_data)\n",
      "preds_num = [ xx[1] for xx in clf.predict_proba(test_data) ]\n",
      "results=zip(test_IDs.tolist(),preds_num)\n",
      "result_df = pd.DataFrame(list(results),columns=['ID','PredictedProb'])\n",
      "result_df.to_csv('/home/mex/DS/Kaggle/BNPClaims/sub8.csv',index=False)"
     ],
     "language": "python",
     "metadata": {},
     "outputs": [],
     "prompt_number": 36
    },
    {
     "cell_type": "code",
     "collapsed": false,
     "input": [
      "pd.DataFrame({\"ID\": test_IDs, \"PredictedProb\": clf.predict_proba(test_data)[:,1]}).to_csv('/home/mex/DS/Kaggle/BNPClaims/sub6.csv',index=False)"
     ],
     "language": "python",
     "metadata": {},
     "outputs": [],
     "prompt_number": 45
    },
    {
     "cell_type": "code",
     "collapsed": false,
     "input": [],
     "language": "python",
     "metadata": {},
     "outputs": []
    },
    {
     "cell_type": "code",
     "collapsed": false,
     "input": [],
     "language": "python",
     "metadata": {},
     "outputs": []
    }
   ],
   "metadata": {}
  }
 ]
}