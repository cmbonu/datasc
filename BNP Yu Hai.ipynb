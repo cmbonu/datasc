{
 "metadata": {
  "name": "",
  "signature": "sha256:e67305829bbddc8a39cb5c497a93540b2cd35b10164c163ac320c8085a4aa738"
 },
 "nbformat": 3,
 "nbformat_minor": 0,
 "worksheets": [
  {
   "cells": [
    {
     "cell_type": "code",
     "collapsed": false,
     "input": [
      "import pandas as pd\n",
      "import numpy as np\n",
      "import csv\n",
      "from sklearn.tree import DecisionTreeClassifier\n",
      "from sklearn.ensemble import ExtraTreesClassifier\n",
      "from sklearn import ensemble\n",
      "\n",
      "\n",
      "print('Load data...')\n",
      "train = pd.read_csv(\"/home/mex/DS/Kaggle/BNPClaims/train.csv\")\n",
      "target = train['target'].values\n",
      "train = train.drop(['ID','target'],axis=1)\n",
      "test = pd.read_csv(\"/home/mex/DS/Kaggle/BNPClaims/test.csv\")\n",
      "id_test = test['ID'].values\n",
      "test = test.drop(['ID'],axis=1)\n",
      "\n",
      "print('Clearing...')\n",
      "for (train_name, train_series), (test_name, test_series) in zip(train.iteritems(),test.iteritems()):\n",
      "    if train_series.dtype == 'O':\n",
      "        #for objects: factorize\n",
      "        train[train_name], tmp_indexer = pd.factorize(train[train_name])\n",
      "        test[test_name] = tmp_indexer.get_indexer(test[test_name])\n",
      "        #but now we have -1 values (NaN)\n",
      "    else:\n",
      "        #for int or float: fill NaN\n",
      "        tmp_len = len(train[train_series.isnull()])\n",
      "        if tmp_len>0:\n",
      "            #print \"mean\", train_series.mean()\n",
      "            train.loc[train_series.isnull(), train_name] = -9999 #train_series.mean()\n",
      "        #and Test\n",
      "        tmp_len = len(test[test_series.isnull()])\n",
      "        if tmp_len>0:\n",
      "            test.loc[test_series.isnull(), test_name] = -9999 #train_series.mean()  #TODO\n",
      "\n",
      "X_train = train\n",
      "X_test = test"
     ],
     "language": "python",
     "metadata": {},
     "outputs": [
      {
       "output_type": "stream",
       "stream": "stdout",
       "text": [
        "Load data...\n",
        "Clearing..."
       ]
      },
      {
       "output_type": "stream",
       "stream": "stdout",
       "text": [
        "\n"
       ]
      },
      {
       "output_type": "stream",
       "stream": "stderr",
       "text": [
        "Vendor:  Continuum Analytics, Inc.\n",
        "Package: mkl\n",
        "Message: trial mode expires in 27 days\n"
       ]
      }
     ],
     "prompt_number": 1
    },
    {
     "cell_type": "code",
     "collapsed": false,
     "input": [],
     "language": "python",
     "metadata": {},
     "outputs": [],
     "prompt_number": 4
    },
    {
     "cell_type": "code",
     "collapsed": false,
     "input": [],
     "language": "python",
     "metadata": {},
     "outputs": []
    },
    {
     "cell_type": "code",
     "collapsed": false,
     "input": [
      "\n",
      "extc = ExtraTreesClassifier(n_estimators=700,max_features= 50,criterion= 'entropy',min_samples_split= 5,\n",
      "                            max_depth= 50, min_samples_leaf= 5)      \n",
      "\n",
      "extc.fit(X_train,target) \n",
      "\n",
      "print('Predict...')\n",
      "y_pred = extc.predict_proba(X_test)\n",
      "#print y_pred\n",
      "\n",
      "pd.DataFrame({\"ID\": id_test, \"PredictedProb\": y_pred[:,1]}).to_csv('/home/mex/DS/Kaggle/BNPClaims/ET.csv',index=False)"
     ],
     "language": "python",
     "metadata": {},
     "outputs": [
      {
       "output_type": "stream",
       "stream": "stdout",
       "text": [
        "Predict...\n"
       ]
      }
     ],
     "prompt_number": 5
    }
   ],
   "metadata": {}
  }
 ]
}