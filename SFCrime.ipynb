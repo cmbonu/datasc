{
 "metadata": {
  "name": "",
  "signature": "sha256:592b84733a5cda7df6fa24af2777f31f4590e1bdb457fbd6567223648ed951f0"
 },
 "nbformat": 3,
 "nbformat_minor": 0,
 "worksheets": [
  {
   "cells": [
    {
     "cell_type": "code",
     "collapsed": false,
     "input": [
      "import pandas as pd\n",
      "from sklearn.cross_validation import train_test_split\n",
      "from sklearn import preprocessing"
     ],
     "language": "python",
     "metadata": {},
     "outputs": [],
     "prompt_number": 2
    },
    {
     "cell_type": "code",
     "collapsed": false,
     "input": [
      "df=pd.read_csv('/home/mex/DS/Kaggle/SFCrime/train.csv')"
     ],
     "language": "python",
     "metadata": {},
     "outputs": [],
     "prompt_number": 3
    },
    {
     "cell_type": "code",
     "collapsed": false,
     "input": [
      "df.shape"
     ],
     "language": "python",
     "metadata": {},
     "outputs": [
      {
       "metadata": {},
       "output_type": "pyout",
       "prompt_number": 4,
       "text": [
        "(878049, 9)"
       ]
      }
     ],
     "prompt_number": 4
    },
    {
     "cell_type": "code",
     "collapsed": false,
     "input": [
      "df.columns"
     ],
     "language": "python",
     "metadata": {},
     "outputs": [
      {
       "metadata": {},
       "output_type": "pyout",
       "prompt_number": 5,
       "text": [
        "Index(['Dates', 'Category', 'Descript', 'DayOfWeek', 'PdDistrict', 'Resolution', 'Address', 'X', 'Y'], dtype='object')"
       ]
      }
     ],
     "prompt_number": 5
    },
    {
     "cell_type": "heading",
     "level": 1,
     "metadata": {},
     "source": [
      "View and inspect Raw data"
     ]
    },
    {
     "cell_type": "code",
     "collapsed": false,
     "input": [
      "df.head(5)"
     ],
     "language": "python",
     "metadata": {},
     "outputs": [
      {
       "html": [
        "<div style=\"max-height:1000px;max-width:1500px;overflow:auto;\">\n",
        "<table border=\"1\" class=\"dataframe\">\n",
        "  <thead>\n",
        "    <tr style=\"text-align: right;\">\n",
        "      <th></th>\n",
        "      <th>Dates</th>\n",
        "      <th>Category</th>\n",
        "      <th>Descript</th>\n",
        "      <th>DayOfWeek</th>\n",
        "      <th>PdDistrict</th>\n",
        "      <th>Resolution</th>\n",
        "      <th>Address</th>\n",
        "      <th>X</th>\n",
        "      <th>Y</th>\n",
        "    </tr>\n",
        "  </thead>\n",
        "  <tbody>\n",
        "    <tr>\n",
        "      <th>0</th>\n",
        "      <td> 2015-05-13 23:53:00</td>\n",
        "      <td>       WARRANTS</td>\n",
        "      <td>               WARRANT ARREST</td>\n",
        "      <td> Wednesday</td>\n",
        "      <td> NORTHERN</td>\n",
        "      <td> ARREST, BOOKED</td>\n",
        "      <td>        OAK ST / LAGUNA ST</td>\n",
        "      <td>-122.425892</td>\n",
        "      <td> 37.774599</td>\n",
        "    </tr>\n",
        "    <tr>\n",
        "      <th>1</th>\n",
        "      <td> 2015-05-13 23:53:00</td>\n",
        "      <td> OTHER OFFENSES</td>\n",
        "      <td>     TRAFFIC VIOLATION ARREST</td>\n",
        "      <td> Wednesday</td>\n",
        "      <td> NORTHERN</td>\n",
        "      <td> ARREST, BOOKED</td>\n",
        "      <td>        OAK ST / LAGUNA ST</td>\n",
        "      <td>-122.425892</td>\n",
        "      <td> 37.774599</td>\n",
        "    </tr>\n",
        "    <tr>\n",
        "      <th>2</th>\n",
        "      <td> 2015-05-13 23:33:00</td>\n",
        "      <td> OTHER OFFENSES</td>\n",
        "      <td>     TRAFFIC VIOLATION ARREST</td>\n",
        "      <td> Wednesday</td>\n",
        "      <td> NORTHERN</td>\n",
        "      <td> ARREST, BOOKED</td>\n",
        "      <td> VANNESS AV / GREENWICH ST</td>\n",
        "      <td>-122.424363</td>\n",
        "      <td> 37.800414</td>\n",
        "    </tr>\n",
        "    <tr>\n",
        "      <th>3</th>\n",
        "      <td> 2015-05-13 23:30:00</td>\n",
        "      <td>  LARCENY/THEFT</td>\n",
        "      <td> GRAND THEFT FROM LOCKED AUTO</td>\n",
        "      <td> Wednesday</td>\n",
        "      <td> NORTHERN</td>\n",
        "      <td>           NONE</td>\n",
        "      <td>  1500 Block of LOMBARD ST</td>\n",
        "      <td>-122.426995</td>\n",
        "      <td> 37.800873</td>\n",
        "    </tr>\n",
        "    <tr>\n",
        "      <th>4</th>\n",
        "      <td> 2015-05-13 23:30:00</td>\n",
        "      <td>  LARCENY/THEFT</td>\n",
        "      <td> GRAND THEFT FROM LOCKED AUTO</td>\n",
        "      <td> Wednesday</td>\n",
        "      <td>     PARK</td>\n",
        "      <td>           NONE</td>\n",
        "      <td> 100 Block of BRODERICK ST</td>\n",
        "      <td>-122.438738</td>\n",
        "      <td> 37.771541</td>\n",
        "    </tr>\n",
        "  </tbody>\n",
        "</table>\n",
        "</div>"
       ],
       "metadata": {},
       "output_type": "pyout",
       "prompt_number": 6,
       "text": [
        "                 Dates        Category                      Descript  \\\n",
        "0  2015-05-13 23:53:00        WARRANTS                WARRANT ARREST   \n",
        "1  2015-05-13 23:53:00  OTHER OFFENSES      TRAFFIC VIOLATION ARREST   \n",
        "2  2015-05-13 23:33:00  OTHER OFFENSES      TRAFFIC VIOLATION ARREST   \n",
        "3  2015-05-13 23:30:00   LARCENY/THEFT  GRAND THEFT FROM LOCKED AUTO   \n",
        "4  2015-05-13 23:30:00   LARCENY/THEFT  GRAND THEFT FROM LOCKED AUTO   \n",
        "\n",
        "   DayOfWeek PdDistrict      Resolution                    Address  \\\n",
        "0  Wednesday   NORTHERN  ARREST, BOOKED         OAK ST / LAGUNA ST   \n",
        "1  Wednesday   NORTHERN  ARREST, BOOKED         OAK ST / LAGUNA ST   \n",
        "2  Wednesday   NORTHERN  ARREST, BOOKED  VANNESS AV / GREENWICH ST   \n",
        "3  Wednesday   NORTHERN            NONE   1500 Block of LOMBARD ST   \n",
        "4  Wednesday       PARK            NONE  100 Block of BRODERICK ST   \n",
        "\n",
        "            X          Y  \n",
        "0 -122.425892  37.774599  \n",
        "1 -122.425892  37.774599  \n",
        "2 -122.424363  37.800414  \n",
        "3 -122.426995  37.800873  \n",
        "4 -122.438738  37.771541  "
       ]
      }
     ],
     "prompt_number": 6
    },
    {
     "cell_type": "code",
     "collapsed": false,
     "input": [
      "def do_one_zero(x,y):\n",
      "    if x==y:\n",
      "        return 1\n",
      "    else:\n",
      "        return 0"
     ],
     "language": "python",
     "metadata": {},
     "outputs": [],
     "prompt_number": 7
    },
    {
     "cell_type": "code",
     "collapsed": false,
     "input": [
      "def hot_encode(dataframe, col_name):\n",
      "    uvals = dataframe[col_name].unique()\n",
      "    for val in uvals:\n",
      "        dataframe[val]=dataframe[col_name].map(lambda x : do_one_zero(x,val))\n",
      "    dataframe.drop(col_name, axis=1, inplace=True)\n",
      "    return dataframe"
     ],
     "language": "python",
     "metadata": {},
     "outputs": [],
     "prompt_number": 8
    },
    {
     "cell_type": "code",
     "collapsed": false,
     "input": [
      "def go_numeric(list_of_values):\n",
      "    list1 =[(x,y+1) for x,y in zip(list_of_values,range(len(list_of_values)))]\n",
      "    return dict(list1)"
     ],
     "language": "python",
     "metadata": {},
     "outputs": [],
     "prompt_number": 9
    },
    {
     "cell_type": "code",
     "collapsed": false,
     "input": [
      "catdict=go_numeric(df['Category'].unique())"
     ],
     "language": "python",
     "metadata": {},
     "outputs": [],
     "prompt_number": 10
    },
    {
     "cell_type": "code",
     "collapsed": false,
     "input": [
      "def fix_data_1hc(df): \n",
      "    df['CategoryF']=df['Category'].map(lambda x: catdict[x])\n",
      "    label = df['CategoryF']\n",
      "    df['DateofCrime']=df.Dates.map(lambda x : pd.datetime.strptime(x,'%Y-%m-%d %H:%M:%S'))\n",
      "    df['HrofDay']=df.DateofCrime.map(lambda x :x.hour)\n",
      "    df['MinofDay']=df.DateofCrime.map(lambda x :x.minute )\n",
      "    df.drop('CategoryF', axis=1, inplace=True)\n",
      "    df.drop('Category', axis=1, inplace=True)\n",
      "    df.drop('DateofCrime', axis=1, inplace=True)\n",
      "    df.drop('Dates', axis=1, inplace=True)\n",
      "    df.drop('Address', axis=1, inplace=True)\n",
      "    df.drop('Descript', axis=1, inplace=True)\n",
      "    df.drop('Resolution', axis=1, inplace=True)\n",
      "    hot_encode(df,'DayOfWeek')\n",
      "    hot_encode(df,'PdDistrict')\n",
      "    \n",
      "    return df,label"
     ],
     "language": "python",
     "metadata": {},
     "outputs": [],
     "prompt_number": 11
    },
    {
     "cell_type": "code",
     "collapsed": false,
     "input": [
      "features_train,label_train = fix_data_1hc(df)\n",
      "ftrain,ftest,ltrain,ltest=train_test_split(features_train,label_train,test_size=.40,random_state=34)"
     ],
     "language": "python",
     "metadata": {},
     "outputs": [],
     "prompt_number": 12
    },
    {
     "cell_type": "code",
     "collapsed": false,
     "input": [
      "features_train.head(5)"
     ],
     "language": "python",
     "metadata": {},
     "outputs": [
      {
       "html": [
        "<div style=\"max-height:1000px;max-width:1500px;overflow:auto;\">\n",
        "<table border=\"1\" class=\"dataframe\">\n",
        "  <thead>\n",
        "    <tr style=\"text-align: right;\">\n",
        "      <th></th>\n",
        "      <th>X</th>\n",
        "      <th>Y</th>\n",
        "      <th>HrofDay</th>\n",
        "      <th>MinofDay</th>\n",
        "      <th>Wednesday</th>\n",
        "      <th>Tuesday</th>\n",
        "      <th>Monday</th>\n",
        "      <th>Sunday</th>\n",
        "      <th>Saturday</th>\n",
        "      <th>Friday</th>\n",
        "      <th>...</th>\n",
        "      <th>NORTHERN</th>\n",
        "      <th>PARK</th>\n",
        "      <th>INGLESIDE</th>\n",
        "      <th>BAYVIEW</th>\n",
        "      <th>RICHMOND</th>\n",
        "      <th>CENTRAL</th>\n",
        "      <th>TARAVAL</th>\n",
        "      <th>TENDERLOIN</th>\n",
        "      <th>MISSION</th>\n",
        "      <th>SOUTHERN</th>\n",
        "    </tr>\n",
        "  </thead>\n",
        "  <tbody>\n",
        "    <tr>\n",
        "      <th>0</th>\n",
        "      <td>-122.425892</td>\n",
        "      <td> 37.774599</td>\n",
        "      <td> 23</td>\n",
        "      <td> 53</td>\n",
        "      <td> 1</td>\n",
        "      <td> 0</td>\n",
        "      <td> 0</td>\n",
        "      <td> 0</td>\n",
        "      <td> 0</td>\n",
        "      <td> 0</td>\n",
        "      <td>...</td>\n",
        "      <td> 1</td>\n",
        "      <td> 0</td>\n",
        "      <td> 0</td>\n",
        "      <td> 0</td>\n",
        "      <td> 0</td>\n",
        "      <td> 0</td>\n",
        "      <td> 0</td>\n",
        "      <td> 0</td>\n",
        "      <td> 0</td>\n",
        "      <td> 0</td>\n",
        "    </tr>\n",
        "    <tr>\n",
        "      <th>1</th>\n",
        "      <td>-122.425892</td>\n",
        "      <td> 37.774599</td>\n",
        "      <td> 23</td>\n",
        "      <td> 53</td>\n",
        "      <td> 1</td>\n",
        "      <td> 0</td>\n",
        "      <td> 0</td>\n",
        "      <td> 0</td>\n",
        "      <td> 0</td>\n",
        "      <td> 0</td>\n",
        "      <td>...</td>\n",
        "      <td> 1</td>\n",
        "      <td> 0</td>\n",
        "      <td> 0</td>\n",
        "      <td> 0</td>\n",
        "      <td> 0</td>\n",
        "      <td> 0</td>\n",
        "      <td> 0</td>\n",
        "      <td> 0</td>\n",
        "      <td> 0</td>\n",
        "      <td> 0</td>\n",
        "    </tr>\n",
        "    <tr>\n",
        "      <th>2</th>\n",
        "      <td>-122.424363</td>\n",
        "      <td> 37.800414</td>\n",
        "      <td> 23</td>\n",
        "      <td> 33</td>\n",
        "      <td> 1</td>\n",
        "      <td> 0</td>\n",
        "      <td> 0</td>\n",
        "      <td> 0</td>\n",
        "      <td> 0</td>\n",
        "      <td> 0</td>\n",
        "      <td>...</td>\n",
        "      <td> 1</td>\n",
        "      <td> 0</td>\n",
        "      <td> 0</td>\n",
        "      <td> 0</td>\n",
        "      <td> 0</td>\n",
        "      <td> 0</td>\n",
        "      <td> 0</td>\n",
        "      <td> 0</td>\n",
        "      <td> 0</td>\n",
        "      <td> 0</td>\n",
        "    </tr>\n",
        "    <tr>\n",
        "      <th>3</th>\n",
        "      <td>-122.426995</td>\n",
        "      <td> 37.800873</td>\n",
        "      <td> 23</td>\n",
        "      <td> 30</td>\n",
        "      <td> 1</td>\n",
        "      <td> 0</td>\n",
        "      <td> 0</td>\n",
        "      <td> 0</td>\n",
        "      <td> 0</td>\n",
        "      <td> 0</td>\n",
        "      <td>...</td>\n",
        "      <td> 1</td>\n",
        "      <td> 0</td>\n",
        "      <td> 0</td>\n",
        "      <td> 0</td>\n",
        "      <td> 0</td>\n",
        "      <td> 0</td>\n",
        "      <td> 0</td>\n",
        "      <td> 0</td>\n",
        "      <td> 0</td>\n",
        "      <td> 0</td>\n",
        "    </tr>\n",
        "    <tr>\n",
        "      <th>4</th>\n",
        "      <td>-122.438738</td>\n",
        "      <td> 37.771541</td>\n",
        "      <td> 23</td>\n",
        "      <td> 30</td>\n",
        "      <td> 1</td>\n",
        "      <td> 0</td>\n",
        "      <td> 0</td>\n",
        "      <td> 0</td>\n",
        "      <td> 0</td>\n",
        "      <td> 0</td>\n",
        "      <td>...</td>\n",
        "      <td> 0</td>\n",
        "      <td> 1</td>\n",
        "      <td> 0</td>\n",
        "      <td> 0</td>\n",
        "      <td> 0</td>\n",
        "      <td> 0</td>\n",
        "      <td> 0</td>\n",
        "      <td> 0</td>\n",
        "      <td> 0</td>\n",
        "      <td> 0</td>\n",
        "    </tr>\n",
        "  </tbody>\n",
        "</table>\n",
        "<p>5 rows \u00d7 21 columns</p>\n",
        "</div>"
       ],
       "metadata": {},
       "output_type": "pyout",
       "prompt_number": 13,
       "text": [
        "            X          Y  HrofDay  MinofDay  Wednesday  Tuesday  Monday  \\\n",
        "0 -122.425892  37.774599       23        53          1        0       0   \n",
        "1 -122.425892  37.774599       23        53          1        0       0   \n",
        "2 -122.424363  37.800414       23        33          1        0       0   \n",
        "3 -122.426995  37.800873       23        30          1        0       0   \n",
        "4 -122.438738  37.771541       23        30          1        0       0   \n",
        "\n",
        "   Sunday  Saturday  Friday   ...    NORTHERN  PARK  INGLESIDE  BAYVIEW  \\\n",
        "0       0         0       0   ...           1     0          0        0   \n",
        "1       0         0       0   ...           1     0          0        0   \n",
        "2       0         0       0   ...           1     0          0        0   \n",
        "3       0         0       0   ...           1     0          0        0   \n",
        "4       0         0       0   ...           0     1          0        0   \n",
        "\n",
        "   RICHMOND  CENTRAL  TARAVAL  TENDERLOIN  MISSION  SOUTHERN  \n",
        "0         0        0        0           0        0         0  \n",
        "1         0        0        0           0        0         0  \n",
        "2         0        0        0           0        0         0  \n",
        "3         0        0        0           0        0         0  \n",
        "4         0        0        0           0        0         0  \n",
        "\n",
        "[5 rows x 21 columns]"
       ]
      }
     ],
     "prompt_number": 13
    },
    {
     "cell_type": "code",
     "collapsed": false,
     "input": [
      "import matplotlib.pyplot as plt"
     ],
     "language": "python",
     "metadata": {},
     "outputs": [],
     "prompt_number": 14
    },
    {
     "cell_type": "code",
     "collapsed": false,
     "input": [
      "def scaledata(dfm):\n",
      "    xy_scaler=preprocessing.StandardScaler()\n",
      "    xy_scaler.fit(dfm[[\"X\",\"Y\"]])\n",
      "    dfm[[\"X\",\"Y\"]]=xy_scaler.transform(dfm[[\"X\",\"Y\"]])\n",
      "    dfm=dfm[abs(df[\"Y\"])<100]\n",
      "    dfm.index=range(len(dfm))\n",
      "    return dfm"
     ],
     "language": "python",
     "metadata": {},
     "outputs": [],
     "prompt_number": 15
    },
    {
     "cell_type": "code",
     "collapsed": false,
     "input": [
      "dfx = scaledata(df)"
     ],
     "language": "python",
     "metadata": {},
     "outputs": [],
     "prompt_number": 16
    },
    {
     "cell_type": "code",
     "collapsed": false,
     "input": [
      "%matplotlib inline\n",
      "plt.plot(dfx['X'],dfx['Y'],'.')"
     ],
     "language": "python",
     "metadata": {},
     "outputs": [
      {
       "metadata": {},
       "output_type": "pyout",
       "prompt_number": 18,
       "text": [
        "[<matplotlib.lines.Line2D at 0x7f152e9e79b0>]"
       ]
      },
      {
       "metadata": {},
       "output_type": "display_data",
       "png": "[encoded data removed]",
       "text": [
        "<matplotlib.figure.Figure at 0x7f154f03c7b8>"
       ]
      }
     ],
     "prompt_number": 18
    },
    {
     "cell_type": "code",
     "collapsed": false,
     "input": [],
     "language": "python",
     "metadata": {},
     "outputs": [],
     "prompt_number": 17
    }
   ],
   "metadata": {}
  }
 ]
}